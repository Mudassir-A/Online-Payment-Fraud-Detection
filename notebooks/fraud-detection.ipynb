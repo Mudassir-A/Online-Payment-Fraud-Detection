{
 "cells": [
  {
   "cell_type": "markdown",
   "id": "ffb6619b-5e4f-48b8-a072-ce55ff4a0649",
   "metadata": {},
   "source": [
    "# Online Payment Fraud Detection\n",
    "Author: [Mohd Mudassir Ansari](https://www.linkedin.com/in/mudassir-ia/)\n",
    "## About Data:\n",
    "Dataset: ([Kaggle-Online Payment Fraud Detection Dataset](https://www.kaggle.com/datasets/rupakroy/online-payments-fraud-detection-dataset/data)\r",
    ")\n",
    "\n",
    "The below column reference:\n",
    "\n",
    "- step: represents a unit of time where 1 step equals 1 hour\n",
    "- type: type of online transaction\n",
    "- amount: the amount of the transaction\n",
    "- nameOrig: customer starting the transaction\n",
    "- oldbalanceOrg: balance before the transaction\n",
    "- newbalanceOrig: balance after the transaction\n",
    "- nameDest: recipient of the transaction\n",
    "- oldbalanceDest: initial balance of recipient before the transaction\n",
    "- newbalanceDest: the new balance of recipient after the transaction\n",
    "- isFraud: fraud transaction"
   ]
  },
  {
   "cell_type": "markdown",
   "id": "6f2dbdd7-0c8f-46ff-9aa4-8da10f7815fb",
   "metadata": {},
   "source": [
    "## Reading the Data"
   ]
  },
  {
   "cell_type": "code",
   "execution_count": null,
   "id": "05adb27d-fdd7-435a-84e3-9369a8958758",
   "metadata": {},
   "outputs": [],
   "source": [
    "# importing important data science libraries\n",
    "import pandas as pd\n",
    "import numpy as np\n",
    "import seaborn as sns\n",
    "import matplotlib.pyplot as plt\n",
    "\n",
    "%matplotlib inline"
   ]
  },
  {
   "cell_type": "code",
   "execution_count": null,
   "id": "92dde010-a821-4c6c-8f65-9c5e5adbcef1",
   "metadata": {},
   "outputs": [],
   "source": [
    "# reading data\n",
    "data = pd.read_csv('../data/online-payment-fraud.csv')\n",
    "data.head()"
   ]
  },
  {
   "cell_type": "code",
   "execution_count": null,
   "id": "bad565a7-1111-47ba-9b44-8721a3d35d6f",
   "metadata": {},
   "outputs": [],
   "source": [
    "# basic information about the data\n",
    "data.info()"
   ]
  },
  {
   "cell_type": "markdown",
   "id": "f0646ac1-7513-4bee-9283-dd8e45960ef1",
   "metadata": {},
   "source": [
    "## Numeric Values"
   ]
  },
  {
   "cell_type": "code",
   "execution_count": null,
   "id": "aa7057d3-b5e2-4b12-a5af-bb738396e3a1",
   "metadata": {},
   "outputs": [],
   "source": [
    "numeric_features = [x for x in data.columns if data[x].dtype != 'object']\n",
    "numeric_features"
   ]
  },
  {
   "cell_type": "markdown",
   "id": "ac4c9498-3658-4b76-9e01-5bb5a35987c1",
   "metadata": {},
   "source": [
    "## Correlation between Features\n",
    "\n",
    "Checking the relation among the features i.e how one or more variables are related to each other"
   ]
  },
  {
   "cell_type": "code",
   "execution_count": null,
   "id": "658c6406-399c-4db9-b730-8fca944bb45f",
   "metadata": {},
   "outputs": [],
   "source": [
    "sns.heatmap(data[numeric_features].corr(), annot=True)\n",
    "plt.show()"
   ]
  },
  {
   "cell_type": "markdown",
   "id": "22ca717c-7df2-4ffa-837e-bcaefe0f585f",
   "metadata": {},
   "source": [
    "## Categorical Values"
   ]
  },
  {
   "cell_type": "code",
   "execution_count": null,
   "id": "14aba080-03e7-4264-a7e4-831b4bbd946e",
   "metadata": {},
   "outputs": [],
   "source": [
    "data['type'].unique()"
   ]
  },
  {
   "cell_type": "markdown",
   "id": "a704af24-b1e7-40c4-97c8-2b1032deba1a",
   "metadata": {},
   "source": [
    "## Distribution of transaction type"
   ]
  },
  {
   "cell_type": "code",
   "execution_count": null,
   "id": "1dafaf49-e8e4-4dc6-9161-6330a5e558cc",
   "metadata": {},
   "outputs": [],
   "source": [
    "transaction_type = data.type.value_counts()\n",
    "transaction = transaction_type.index\n",
    "quantity = transaction_type.values\n",
    "\n",
    "plt.pie(quantity, labels=transaction, autopct='%.1f%%', startangle=90)\n",
    "plt.legend(transaction, loc='best')\n",
    "plt.axis('equal')\n",
    "plt.tight_layout()\n",
    "plt.show()"
   ]
  },
  {
   "cell_type": "markdown",
   "id": "c5e79251-2b31-48ce-bdc8-a0c3abfbd06a",
   "metadata": {},
   "source": [
    "## Converting categorical data to numerical values"
   ]
  },
  {
   "cell_type": "code",
   "execution_count": null,
   "id": "cfd26f08-aeda-445a-8b59-91053d5974ae",
   "metadata": {},
   "outputs": [],
   "source": [
    "# type of transaction: ['PAYMENT', 'TRANSFER', 'CASH_OUT', 'DEBIT', 'CASH_IN']\n",
    "# alphabetically assigning all values a number from 0 to 4\n",
    "\n",
    "from sklearn.preprocessing import LabelEncoder\n",
    "encoder = LabelEncoder()\n",
    "data['type'] = encoder.fit_transform(data['type'])\n",
    "data.head()"
   ]
  },
  {
   "cell_type": "markdown",
   "id": "7595bda9-cfe8-44d1-99b3-b55ad7f4618e",
   "metadata": {},
   "source": [
    "## Splitting Training and Test data"
   ]
  },
  {
   "cell_type": "code",
   "execution_count": null,
   "id": "1f7d7db4-406a-44f7-9dd3-5d224f7e7a5d",
   "metadata": {},
   "outputs": [],
   "source": [
    "from sklearn.model_selection import train_test_split\n",
    "\n",
    "X = data[['type', 'amount', 'oldbalanceOrg', 'newbalanceOrig']]\n",
    "y = data['isFraud']\n",
    "\n",
    "X_train, X_test, y_train, y_test = train_test_split(X, y, test_size=0.1, random_state=42)"
   ]
  },
  {
   "cell_type": "code",
   "execution_count": null,
   "id": "3a47d208-3446-4dac-8133-ed1c243b5844",
   "metadata": {},
   "outputs": [],
   "source": [
    "print(X_train.shape, y_train.shape)"
   ]
  },
  {
   "cell_type": "code",
   "execution_count": null,
   "id": "28d5ed13-0117-4f74-a823-30a7696339c4",
   "metadata": {},
   "outputs": [],
   "source": [
    "print(X_test.shape, y_test.shape)"
   ]
  },
  {
   "cell_type": "markdown",
   "id": "fde98b45-60a7-4046-92b3-8cfca7aa8bf0",
   "metadata": {},
   "source": [
    "## Standardization\n",
    "\n",
    "Standardizing the data so for improving scores and a good prediction"
   ]
  },
  {
   "cell_type": "code",
   "execution_count": null,
   "id": "05f031eb-cdae-4445-a074-0f52d3e533d3",
   "metadata": {},
   "outputs": [],
   "source": [
    "from sklearn.preprocessing import StandardScaler\n",
    "scaler = StandardScaler()\n",
    "X_train_scaled = scaler.fit_transform(X_train)\n",
    "X_test_scaled = scaler.transform(X_test)"
   ]
  },
  {
   "cell_type": "markdown",
   "id": "3a3073e3-8304-4496-b3d5-0e75d8f36c95",
   "metadata": {},
   "source": [
    "## Model Training\n",
    "\n",
    "Since, this is a Binary Classification problem (Fraud: 1, Not Fraud: 0), we will first try the \n",
    "### Logistic Regression Model"
   ]
  },
  {
   "cell_type": "code",
   "execution_count": null,
   "id": "1c2b6d33-da16-4cfb-8203-5f432bfd5dec",
   "metadata": {},
   "outputs": [],
   "source": [
    "from sklearn.linear_model import LogisticRegression\n",
    "regressor = LogisticRegression()\n",
    "regressor.fit(X_train_scaled, y_train)\n",
    "y_pred = regressor.predict(X_test_scaled)"
   ]
  },
  {
   "cell_type": "code",
   "execution_count": null,
   "id": "fc505798-25e0-4698-9615-05a396291219",
   "metadata": {},
   "outputs": [],
   "source": [
    "np.unique(y_pred)"
   ]
  },
  {
   "cell_type": "markdown",
   "id": "038cb2c2-d3ba-4b93-9ca8-503bc57c01b2",
   "metadata": {},
   "source": [
    "## Accuracy of Model\n",
    "\n",
    "Accuracy of Logistic Regression Model is evaluated with the help of Confusion Matrix and Classification Report  \n",
    "The Accuracy Score basically indicates the overall accuracy of the trained model"
   ]
  },
  {
   "cell_type": "code",
   "execution_count": null,
   "id": "ca68908a-a3c8-4b6c-9b63-596419e82022",
   "metadata": {},
   "outputs": [],
   "source": [
    "from sklearn.metrics import confusion_matrix, accuracy_score, classification_report\n",
    "\n",
    "def accuracy_report(y_test, y_pred):\n",
    "    print(f'Confusion Matrix:\\n{confusion_matrix(y_test, y_pred)}\\n')\n",
    "    print(f'Accuracy: {accuracy_score(y_test, y_pred)}\\n')\n",
    "    print(f'Classification Report:\\n{classification_report(y_test, y_pred)}\\n')\n",
    "\n",
    "accuracy_report(y_test, y_pred)"
   ]
  },
  {
   "cell_type": "code",
   "execution_count": null,
   "id": "634981b2-a379-4c58-9253-dcbbaa30f313",
   "metadata": {},
   "outputs": [],
   "source": [
    "X.head()"
   ]
  },
  {
   "cell_type": "code",
   "execution_count": null,
   "id": "462154be-b1ea-4b81-9b76-abca6ec68d8a",
   "metadata": {},
   "outputs": [],
   "source": [
    "regressor.predict([[4, 9839, 170136, 0]])"
   ]
  },
  {
   "cell_type": "markdown",
   "id": "535682f7-34e0-4ef5-93e8-ca414fb63f29",
   "metadata": {},
   "source": [
    "Since, the data is very large. The Logistic Regression model gives Overfitting.  \n",
    "Hence we will next try using:\n",
    "### Decision Tree Model"
   ]
  },
  {
   "cell_type": "code",
   "execution_count": null,
   "id": "c0f9bda4-1e65-4779-8db6-b24026457405",
   "metadata": {},
   "outputs": [],
   "source": [
    "from sklearn.tree import DecisionTreeClassifier\n",
    "treeclassifier = DecisionTreeClassifier()\n",
    "treeclassifier.fit(X_train, y_train)"
   ]
  },
  {
   "cell_type": "code",
   "execution_count": null,
   "id": "9a0a923d-4a60-40e1-b92b-7a36349302d5",
   "metadata": {},
   "outputs": [],
   "source": [
    "# prediction\n",
    "y_pred = treeclassifier.predict(X_test)\n",
    "y_pred"
   ]
  },
  {
   "cell_type": "code",
   "execution_count": null,
   "id": "3034251e-14ab-4fbd-a0c6-0a8d03e8a33c",
   "metadata": {},
   "outputs": [],
   "source": [
    "# Accuracy\n",
    "def accuracy_report(y_test, y_pred):\n",
    "    print(f'Confusion Matrix:\\n{confusion_matrix(y_test, y_pred)}\\n')\n",
    "    print(f'Accuracy: {accuracy_score(y_test, y_pred)}\\n')\n",
    "    print(f'Classification Report:\\n{classification_report(y_test, y_pred)}\\n')\n",
    "\n",
    "accuracy_report(y_test, y_pred)"
   ]
  },
  {
   "cell_type": "markdown",
   "id": "a8486985-040e-46e6-9dfe-2f37575edcab",
   "metadata": {},
   "source": [
    "Since the Accuracy of Decision Tree model is slightly more than the Logistic Regression, we will choose this one"
   ]
  },
  {
   "cell_type": "markdown",
   "id": "d35eb3d0-aead-42a1-951a-abf128df22ee",
   "metadata": {},
   "source": [
    "## Pickling\n",
    "\n",
    "converting models into a byte stream. This byte stream can then be stored in a file, transmitted over a network, or stored in memory"
   ]
  },
  {
   "cell_type": "code",
   "execution_count": null,
   "id": "30f6991d-19e4-4172-b5b7-b8df88f691fc",
   "metadata": {},
   "outputs": [],
   "source": [
    "import pickle\n",
    "\n",
    "# pickle.dump(scaler, open('../models/scaler.pkl', 'wb'))\n",
    "pickle.dump(treeclassifier, open('../models/treeclassifier.pkl', 'wb'))"
   ]
  }
 ],
 "metadata": {
  "kernelspec": {
   "display_name": "Python 3 (ipykernel)",
   "language": "python",
   "name": "python3"
  },
  "language_info": {
   "codemirror_mode": {
    "name": "ipython",
    "version": 3
   },
   "file_extension": ".py",
   "mimetype": "text/x-python",
   "name": "python",
   "nbconvert_exporter": "python",
   "pygments_lexer": "ipython3",
   "version": "3.11.2"
  }
 },
 "nbformat": 4,
 "nbformat_minor": 5
}
